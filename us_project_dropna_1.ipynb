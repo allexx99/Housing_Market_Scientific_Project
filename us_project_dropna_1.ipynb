{
 "cells": [
  {
   "cell_type": "code",
   "id": "initial_id",
   "metadata": {
    "collapsed": true,
    "ExecuteTime": {
     "end_time": "2024-11-24T13:39:39.456856Z",
     "start_time": "2024-11-24T13:39:39.450211Z"
    }
   },
   "source": [
    "import numpy as np\n",
    "import pandas as pd\n",
    "import matplotlib.pyplot as plt\n",
    "import seaborn as sns\n",
    "np.random.seed(0)"
   ],
   "outputs": [],
   "execution_count": 1
  },
  {
   "metadata": {
    "ExecuteTime": {
     "end_time": "2024-11-24T13:41:08.399233Z",
     "start_time": "2024-11-24T13:39:39.463862Z"
    }
   },
   "cell_type": "code",
   "source": [
    "file_path = \"dataset/us_city_market_tracker.csv\"\n",
    "\n",
    "us_ds = pd.read_csv(file_path, sep='\\t')"
   ],
   "id": "220aee3602ad1370",
   "outputs": [],
   "execution_count": 2
  },
  {
   "metadata": {
    "ExecuteTime": {
     "end_time": "2024-11-24T13:41:13.118629Z",
     "start_time": "2024-11-24T13:41:11.598491Z"
    }
   },
   "cell_type": "code",
   "source": [
    "us_ds['period_begin'] = pd.to_datetime(us_ds['period_begin'])\n",
    "us_ds['period_end'] = pd.to_datetime(us_ds['period_end'])\n",
    "us_ds.shape"
   ],
   "id": "c5d47fbe63673408",
   "outputs": [
    {
     "data": {
      "text/plain": [
       "(5559476, 58)"
      ]
     },
     "execution_count": 3,
     "metadata": {},
     "output_type": "execute_result"
    }
   ],
   "execution_count": 3
  },
  {
   "metadata": {
    "ExecuteTime": {
     "end_time": "2024-11-24T13:41:18.865133Z",
     "start_time": "2024-11-24T13:41:13.559630Z"
    }
   },
   "cell_type": "code",
   "source": "us_ds = us_ds.dropna()",
   "id": "e2c8bfc5027f28e0",
   "outputs": [],
   "execution_count": 4
  },
  {
   "metadata": {
    "ExecuteTime": {
     "end_time": "2024-11-24T13:41:19.829575Z",
     "start_time": "2024-11-24T13:41:19.824336Z"
    }
   },
   "cell_type": "code",
   "source": "us_ds.shape",
   "id": "ec3768888fb9f2b1",
   "outputs": [
    {
     "data": {
      "text/plain": [
       "(1789212, 58)"
      ]
     },
     "execution_count": 5,
     "metadata": {},
     "output_type": "execute_result"
    }
   ],
   "execution_count": 5
  },
  {
   "metadata": {
    "ExecuteTime": {
     "end_time": "2024-11-24T13:43:12.607066Z",
     "start_time": "2024-11-24T13:41:19.908168Z"
    }
   },
   "cell_type": "code",
   "source": [
    "output_file = \"modified_dataset/us_project_dropna.csv\"\n",
    "\n",
    "us_ds.to_csv(output_file, index=False)"
   ],
   "id": "aaf6b76031a627fc",
   "outputs": [],
   "execution_count": 6
  }
 ],
 "metadata": {
  "kernelspec": {
   "display_name": "Python 3",
   "language": "python",
   "name": "python3"
  },
  "language_info": {
   "codemirror_mode": {
    "name": "ipython",
    "version": 2
   },
   "file_extension": ".py",
   "mimetype": "text/x-python",
   "name": "python",
   "nbconvert_exporter": "python",
   "pygments_lexer": "ipython2",
   "version": "2.7.6"
  }
 },
 "nbformat": 4,
 "nbformat_minor": 5
}
