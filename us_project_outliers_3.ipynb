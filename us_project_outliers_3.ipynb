{
 "cells": [
  {
   "cell_type": "code",
   "id": "initial_id",
   "metadata": {
    "collapsed": true,
    "ExecuteTime": {
     "end_time": "2024-12-03T21:10:54.325682Z",
     "start_time": "2024-12-03T21:10:54.319621Z"
    }
   },
   "source": [
    "import numpy as np\n",
    "import pandas as pd\n",
    "from scipy.stats import zscore\n",
    "import matplotlib.pyplot as plt\n",
    "import seaborn as sns\n",
    "np.random.seed(0)"
   ],
   "outputs": [],
   "execution_count": 1
  },
  {
   "metadata": {
    "ExecuteTime": {
     "end_time": "2024-12-03T21:11:20.824097Z",
     "start_time": "2024-12-03T21:10:54.332433Z"
    }
   },
   "cell_type": "code",
   "source": [
    "file_path = 'modified_dataset/us_project_new_columns.csv'\n",
    "\n",
    "us_ds = pd.read_csv(file_path, sep=',')"
   ],
   "id": "e8406e4d5e0c9176",
   "outputs": [],
   "execution_count": 2
  },
  {
   "metadata": {
    "ExecuteTime": {
     "end_time": "2024-12-03T21:11:22.362092Z",
     "start_time": "2024-12-03T21:11:22.123988Z"
    }
   },
   "cell_type": "code",
   "source": [
    "us_ds['period_begin'] = pd.to_datetime(us_ds['period_begin'])\n",
    "us_ds.shape"
   ],
   "id": "c1d11862084bf9c4",
   "outputs": [
    {
     "data": {
      "text/plain": [
       "(1789212, 68)"
      ]
     },
     "execution_count": 3,
     "metadata": {},
     "output_type": "execute_result"
    }
   ],
   "execution_count": 3
  },
  {
   "metadata": {
    "ExecuteTime": {
     "end_time": "2024-12-03T21:11:25.397270Z",
     "start_time": "2024-12-03T21:11:23.062830Z"
    }
   },
   "cell_type": "code",
   "source": [
    "feature_names = us_ds.columns\n",
    "\n",
    "# display the min max value of each feature\n",
    "for feature in feature_names:\n",
    "    print(f\"{feature}: min={us_ds[feature].min()}, max={us_ds[feature].max()}\")"
   ],
   "id": "4fad640bc8ea53ea",
   "outputs": [
    {
     "name": "stdout",
     "output_type": "stream",
     "text": [
      "period_begin: min=2012-01-01 00:00:00, max=2024-08-01 00:00:00\n",
      "period_end: min=2012-01-31, max=2024-08-31\n",
      "period_duration: min=30, max=30\n",
      "region_type: min=place, max=place\n",
      "region_type_id: min=6, max=6\n",
      "table_id: min=3, max=38773\n",
      "is_seasonally_adjusted: min=f, max=f\n",
      "region: min=Abbeville, LA, max=Zumbrota, MN\n",
      "city: min=Abbeville, max=Zumbrota\n",
      "state: min=Alabama, max=Wisconsin\n",
      "state_code: min=AK, max=WV\n",
      "property_type: min=All Residential, max=Townhouse\n",
      "property_type_id: min=-1, max=13\n",
      "median_sale_price: min=625.0, max=37000000.0\n",
      "median_sale_price_mom: min=-0.995427582797825, max=289.0\n",
      "median_sale_price_yoy: min=-0.99525, max=88999.0\n",
      "median_list_price: min=500.0, max=999999999.0\n",
      "median_list_price_mom: min=-0.999436999999437, max=1597.7210215827338\n",
      "median_list_price_yoy: min=-0.999375999999376, max=1820.49362295082\n",
      "median_ppsf: min=0.285521898339928, max=925000.0\n",
      "median_ppsf_mom: min=-0.9998472722829738, max=1567.9927875747485\n",
      "median_ppsf_yoy: min=-0.9996949398412834, max=84975.65615141955\n",
      "median_list_ppsf: min=0.2024803847127309, max=600140.1859504132\n",
      "median_list_ppsf_mom: min=-0.9997019201947188, max=2081.97358490566\n",
      "median_list_ppsf_yoy: min=-0.9997559427840182, max=4144.801097066539\n",
      "homes_sold: min=1.0, max=4579.0\n",
      "homes_sold_mom: min=-0.9736842105263158, max=64.0\n",
      "homes_sold_yoy: min=-0.972972972972973, max=80.0\n",
      "pending_sales: min=1.0, max=13507.0\n",
      "pending_sales_mom: min=-0.9871794871794872, max=140.0\n",
      "pending_sales_yoy: min=-0.99009900990099, max=139.5\n",
      "new_listings: min=1.0, max=7236.0\n",
      "new_listings_mom: min=-0.9923076923076924, max=35.0\n",
      "new_listings_yoy: min=-0.9736842105263158, max=144.0\n",
      "inventory: min=1.0, max=25608.0\n",
      "inventory_mom: min=-0.9583333333333331, max=14.0\n",
      "inventory_yoy: min=-0.9848484848484848, max=44.4\n",
      "months_of_supply: min=0.0, max=192.0\n",
      "months_of_supply_mom: min=-103.9, max=152.4\n",
      "months_of_supply_yoy: min=-186.3, max=111.6\n",
      "median_dom: min=1.0, max=10963.0\n",
      "median_dom_mom: min=-10947.0, max=10954.0\n",
      "median_dom_yoy: min=-36539.0, max=10733.0\n",
      "avg_sale_to_list: min=0.5, max=1.9635\n",
      "avg_sale_to_list_mom: min=-1.0350639515863431, max=1.0885\n",
      "avg_sale_to_list_yoy: min=-1.2222177722152692, max=1.0147999416482136\n",
      "sold_above_list: min=0.0, max=1.0\n",
      "sold_above_list_mom: min=-1.0, max=1.0\n",
      "sold_above_list_yoy: min=-1.0, max=1.0\n",
      "price_drops: min=0.0001090631475624, max=1.0\n",
      "price_drops_mom: min=-0.972972972972973, max=0.95\n",
      "price_drops_yoy: min=-0.96875, max=0.9885057471264368\n",
      "off_market_in_two_weeks: min=0.0, max=1.0\n",
      "off_market_in_two_weeks_mom: min=-1.0, max=1.0\n",
      "off_market_in_two_weeks_yoy: min=-1.0, max=1.0\n",
      "parent_metro_region: min=Aberdeen, SD, max=Zanesville, OH\n",
      "parent_metro_region_metro_code: min=10100, max=49780\n",
      "last_updated: min=2024-09-18 14:24:31, max=2024-09-18 14:24:31\n",
      "sale_to_list_ratio: min=0.0004164000004164, max=474.875\n",
      "year: min=2012, max=2024\n",
      "month: min=1, max=12\n",
      "sales_to_new_listings_ratio: min=0.0217391304347826, max=30.0\n",
      "price_increased_mom: min=0, max=1\n",
      "price_increased_yoy: min=0, max=1\n",
      "inventory_turnover: min=0.0052083333333333, max=26.0\n",
      "sale_to_list_ppsf_ratio: min=0.0003735269360269, max=2194.279007339292\n",
      "supply_demand_balance: min=-12647.0, max=3931.0\n",
      "fast_selling: min=0, max=1\n"
     ]
    }
   ],
   "execution_count": 4
  },
  {
   "metadata": {
    "ExecuteTime": {
     "end_time": "2024-12-03T21:11:27.787160Z",
     "start_time": "2024-12-03T21:11:25.409411Z"
    }
   },
   "cell_type": "code",
   "source": [
    "# compute z-score for numerical columns \n",
    "# z_scores = us_ds.select_dtypes(include=['float64', 'int64']).apply(zscore)\n",
    "\n",
    "exclude_columns = ['period_duration', 'region_type_id', 'table_id', 'property_type_id', \n",
    "'parent_metro_region_metro_code', 'year', 'month', 'price_increased_mom', \n",
    "'price_increased_yoy', 'fast_selling']\n",
    "\n",
    "# us_ds_ca = us_ds[us_ds['state_code'] == 'CA']\n",
    "numeric_columns = us_ds.select_dtypes(include=['number']).columns\n",
    "\n",
    "if exclude_columns:\n",
    "    columns_for_outliers = [col for col in numeric_columns if col not in exclude_columns]\n",
    "else:\n",
    "    columns_for_outliers = numeric_columns\n",
    "\n",
    "z_scores = us_ds[columns_for_outliers].apply(zscore)\n",
    "\n",
    "# define a threshold for outliers\n",
    "threshold = 5\n",
    "\n",
    "# identify outliers\n",
    "outliers = (z_scores.abs() > threshold)\n",
    "\n",
    "# print summary of outliers\n",
    "outlier_summary = outliers.sum().sort_values(ascending=False)\n",
    "print(\"Outliers per feature:\")\n",
    "print(outlier_summary)\n",
    "\n",
    "# get rows with any outliers\n",
    "rows_with_outliers = us_ds[outliers.any(axis=1)]\n",
    "print(f\"Number of rows with outliers: {len(rows_with_outliers)}\")\n",
    "# rows_with_outliers.head(100)"
   ],
   "id": "11b55f1ddc8585f0",
   "outputs": [
    {
     "name": "stdout",
     "output_type": "stream",
     "text": [
      "Outliers per feature:\n",
      "sales_to_new_listings_ratio    13448\n",
      "months_of_supply_mom           11608\n",
      "pending_sales_mom              11347\n",
      "homes_sold_yoy                 11210\n",
      "months_of_supply_yoy           11182\n",
      "new_listings_mom               10329\n",
      "months_of_supply               10320\n",
      "homes_sold                     10102\n",
      "homes_sold_mom                 10075\n",
      "median_sale_price              10058\n",
      "new_listings_yoy               10015\n",
      "pending_sales                  10004\n",
      "pending_sales_yoy               9954\n",
      "new_listings                    9547\n",
      "inventory_turnover              8584\n",
      "avg_sale_to_list_mom            7986\n",
      "inventory_yoy                   7739\n",
      "inventory                       7592\n",
      "avg_sale_to_list_yoy            6915\n",
      "price_drops                     6662\n",
      "inventory_mom                   6482\n",
      "supply_demand_balance           5737\n",
      "avg_sale_to_list                5605\n",
      "median_dom_mom                  4702\n",
      "median_dom_yoy                  4608\n",
      "median_dom                      4583\n",
      "price_drops_mom                 3733\n",
      "price_drops_yoy                 3285\n",
      "median_sale_price_mom           2771\n",
      "sale_to_list_ratio               642\n",
      "median_list_price                407\n",
      "median_list_price_yoy            117\n",
      "median_list_price_mom            114\n",
      "median_ppsf_mom                  114\n",
      "sale_to_list_ppsf_ratio          105\n",
      "median_list_ppsf_yoy              96\n",
      "median_list_ppsf_mom              84\n",
      "median_ppsf                       36\n",
      "median_list_ppsf                  34\n",
      "median_ppsf_yoy                   27\n",
      "median_sale_price_yoy              2\n",
      "sold_above_list                    0\n",
      "sold_above_list_mom                0\n",
      "sold_above_list_yoy                0\n",
      "off_market_in_two_weeks_yoy        0\n",
      "off_market_in_two_weeks            0\n",
      "off_market_in_two_weeks_mom        0\n",
      "dtype: int64\n",
      "Number of rows with outliers: 154254\n"
     ]
    }
   ],
   "execution_count": 5
  },
  {
   "metadata": {
    "ExecuteTime": {
     "end_time": "2024-12-03T21:11:34.209336Z",
     "start_time": "2024-12-03T21:11:28.259535Z"
    }
   },
   "cell_type": "code",
   "source": [
    "# replacing outliers\n",
    "us_ds_copy = us_ds.copy()\n",
    "\n",
    "for col in columns_for_outliers:\n",
    "    # Calculate EMA for the column\n",
    "    # ema = us_ds_ca_copy[col].ewm(span=10, adjust=False).mean()\n",
    "\n",
    "    # calculate MA - moving average\n",
    "    ma = us_ds_copy[col].rolling(window=2, center=True).mean()\n",
    "\n",
    "    # Replace outliers with EMA\n",
    "    # us_ds_ca_copy.loc[outliers[col], col] = ema[outliers[col]]\n",
    "    us_ds_copy.loc[outliers[col], col] = ma[outliers[col]] \n",
    "\n",
    "# Step 4: Re-check rows with any outliers\n",
    "z_scores_after = us_ds_copy[columns_for_outliers].apply(zscore)\n",
    "outliers_after = z_scores_after.abs() > threshold\n",
    "rows_with_outliers_after = outliers_after.any(axis=1).sum()\n",
    "\n",
    "print(f\"Number of rows with outliers after replacement: {rows_with_outliers_after}\")"
   ],
   "id": "b8710e5ce57a5810",
   "outputs": [
    {
     "name": "stdout",
     "output_type": "stream",
     "text": [
      "Number of rows with outliers after replacement: 141345\n"
     ]
    }
   ],
   "execution_count": 6
  },
  {
   "metadata": {
    "ExecuteTime": {
     "end_time": "2024-12-03T21:11:37.696452Z",
     "start_time": "2024-12-03T21:11:35.333950Z"
    }
   },
   "cell_type": "code",
   "source": [
    "# display the min max value of each feature\n",
    "for feature in feature_names:\n",
    "    print(f\"{feature}: min={us_ds_copy[feature].min()}, max={us_ds_copy[feature].max()}\")"
   ],
   "id": "3b34c3dc6a9ddb95",
   "outputs": [
    {
     "name": "stdout",
     "output_type": "stream",
     "text": [
      "period_begin: min=2012-01-01 00:00:00, max=2024-08-01 00:00:00\n",
      "period_end: min=2012-01-31, max=2024-08-31\n",
      "period_duration: min=30, max=30\n",
      "region_type: min=place, max=place\n",
      "region_type_id: min=6, max=6\n",
      "table_id: min=3, max=38773\n",
      "is_seasonally_adjusted: min=f, max=f\n",
      "region: min=Abbeville, LA, max=Zumbrota, MN\n",
      "city: min=Abbeville, max=Zumbrota\n",
      "state: min=Alabama, max=Wisconsin\n",
      "state_code: min=AK, max=WV\n",
      "property_type: min=All Residential, max=Townhouse\n",
      "property_type_id: min=-1, max=13\n",
      "median_sale_price: min=625.0, max=18732500.0\n",
      "median_sale_price_mom: min=-0.995427582797825, max=144.44153137340936\n",
      "median_sale_price_yoy: min=-0.99525, max=44499.53418803419\n",
      "median_list_price: min=500.0, max=500136224.5\n",
      "median_list_price_mom: min=-0.999436999999437, max=799.0551674920254\n",
      "median_list_price_yoy: min=-0.999375999999376, max=910.2940284860416\n",
      "median_ppsf: min=0.285521898339928, max=462584.8511772547\n",
      "median_ppsf_mom: min=-0.9998472722829738, max=783.9859824447946\n",
      "median_ppsf_yoy: min=-0.9996949398412834, max=42487.82383399851\n",
      "median_list_ppsf: min=0.2024803847127309, max=300134.6826408601\n",
      "median_list_ppsf_mom: min=-0.9997019201947188, max=1041.0112100772403\n",
      "median_list_ppsf_yoy: min=-0.9997559427840182, max=2072.4318257664822\n",
      "homes_sold: min=1.0, max=2575.5\n",
      "homes_sold_mom: min=-0.9736842105263158, max=32.052238805970674\n",
      "homes_sold_yoy: min=-0.972972972972973, max=39.7792207792217\n",
      "pending_sales: min=1.0, max=6797.0\n",
      "pending_sales_mom: min=-0.9871794871794872, max=69.8565217391305\n",
      "pending_sales_yoy: min=-0.99009900990099, max=69.83333333333363\n",
      "new_listings: min=1.0, max=3621.5\n",
      "new_listings_mom: min=-0.9923076923076924, max=17.466666666666942\n",
      "new_listings_yoy: min=-0.9736842105263158, max=72.05357142857167\n",
      "inventory: min=1.0, max=13008.5\n",
      "inventory_mom: min=-0.9583333333333331, max=6.979797979798017\n",
      "inventory_yoy: min=-0.9848484848484848, max=22.25555555555583\n",
      "months_of_supply: min=0.0, max=99.35000000000028\n",
      "months_of_supply_mom: min=-51.850000000000044, max=75.84999999999984\n",
      "months_of_supply_yoy: min=-95.14999999999995, max=55.4\n",
      "median_dom: min=1.0, max=5498.0\n",
      "median_dom_mom: min=-5503.5, max=5481.5\n",
      "median_dom_yoy: min=-18295.5, max=5371.5\n",
      "avg_sale_to_list: min=0.7165140489867775, max=1.4937009781515616\n",
      "avg_sale_to_list_mom: min=-0.5209250755272105, max=0.5426057002348593\n",
      "avg_sale_to_list_yoy: min=-0.6284288465356118, max=0.5108470661368613\n",
      "sold_above_list: min=0.0, max=1.0\n",
      "sold_above_list_mom: min=-1.0, max=1.0\n",
      "sold_above_list_yoy: min=-1.0, max=1.0\n",
      "price_drops: min=0.0001090631475624, max=1.0\n",
      "price_drops_mom: min=-0.7365384615384563, max=0.8149920255183414\n",
      "price_drops_yoy: min=-0.8958333333333368, max=0.8496240601503742\n",
      "off_market_in_two_weeks: min=0.0, max=1.0\n",
      "off_market_in_two_weeks_mom: min=-1.0, max=1.0\n",
      "off_market_in_two_weeks_yoy: min=-1.0, max=1.0\n",
      "parent_metro_region: min=Aberdeen, SD, max=Zanesville, OH\n",
      "parent_metro_region_metro_code: min=10100, max=49780\n",
      "last_updated: min=2024-09-18 14:24:31, max=2024-09-18 14:24:31\n",
      "sale_to_list_ratio: min=0.0004164000004164, max=237.97594871794868\n",
      "year: min=2012, max=2024\n",
      "month: min=1, max=12\n",
      "sales_to_new_listings_ratio: min=0.0217391304347826, max=15.236111111111631\n",
      "price_increased_mom: min=0, max=1\n",
      "price_increased_yoy: min=0, max=1\n",
      "inventory_turnover: min=0.0052083333333333, max=13.066176470588653\n",
      "sale_to_list_ppsf_ratio: min=0.0003735269360269, max=1097.658491104975\n",
      "supply_demand_balance: min=-6324.5, max=1963.5\n",
      "fast_selling: min=0, max=1\n"
     ]
    }
   ],
   "execution_count": 7
  },
  {
   "metadata": {
    "ExecuteTime": {
     "end_time": "2024-12-03T21:11:38.579514Z",
     "start_time": "2024-12-03T21:11:38.576058Z"
    }
   },
   "cell_type": "code",
   "source": [
    "# # print summary of outliers\n",
    "# outlier_summary_after = outliers_after.sum().sort_values(ascending=False)\n",
    "# print(\"Outliers per feature:\")\n",
    "# print(outlier_summary_after)"
   ],
   "id": "e893a8a29025ebe9",
   "outputs": [],
   "execution_count": 8
  },
  {
   "metadata": {
    "ExecuteTime": {
     "end_time": "2024-12-03T21:11:39.665125Z",
     "start_time": "2024-12-03T21:11:39.660490Z"
    }
   },
   "cell_type": "code",
   "source": [
    "# cleaned_data = us_ds[~outliers.any(axis=1)]\n",
    "# print(f\"Number of rows after removing outliers: {len(cleaned_data)}\")"
   ],
   "id": "27e07c7f473465ca",
   "outputs": [],
   "execution_count": 9
  },
  {
   "metadata": {
    "ExecuteTime": {
     "end_time": "2024-12-03T21:13:20.931968Z",
     "start_time": "2024-12-03T21:11:40.715911Z"
    }
   },
   "cell_type": "code",
   "source": [
    "output_file = \"modified_dataset/us_project_outliers.csv\"\n",
    "\n",
    "us_ds_copy.to_csv(output_file, index=False)"
   ],
   "id": "d831bd149113f098",
   "outputs": [],
   "execution_count": 10
  }
 ],
 "metadata": {
  "kernelspec": {
   "display_name": "Python 3",
   "language": "python",
   "name": "python3"
  },
  "language_info": {
   "codemirror_mode": {
    "name": "ipython",
    "version": 2
   },
   "file_extension": ".py",
   "mimetype": "text/x-python",
   "name": "python",
   "nbconvert_exporter": "python",
   "pygments_lexer": "ipython2",
   "version": "2.7.6"
  }
 },
 "nbformat": 4,
 "nbformat_minor": 5
}
